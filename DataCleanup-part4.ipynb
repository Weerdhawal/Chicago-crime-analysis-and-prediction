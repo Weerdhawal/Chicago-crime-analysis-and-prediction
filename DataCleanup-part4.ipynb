{
 "cells": [
  {
   "cell_type": "code",
   "execution_count": 1,
   "metadata": {},
   "outputs": [],
   "source": [
    "import pandas as pd"
   ]
  },
  {
   "cell_type": "code",
   "execution_count": 12,
   "metadata": {
    "scrolled": true
   },
   "outputs": [
    {
     "data": {
      "text/html": [
       "<div>\n",
       "<style scoped>\n",
       "    .dataframe tbody tr th:only-of-type {\n",
       "        vertical-align: middle;\n",
       "    }\n",
       "\n",
       "    .dataframe tbody tr th {\n",
       "        vertical-align: top;\n",
       "    }\n",
       "\n",
       "    .dataframe thead th {\n",
       "        text-align: right;\n",
       "    }\n",
       "</style>\n",
       "<table border=\"1\" class=\"dataframe\">\n",
       "  <thead>\n",
       "    <tr style=\"text-align: right;\">\n",
       "      <th></th>\n",
       "      <th>HARDSHIP INDEX</th>\n",
       "      <th>COMMUNITY AREA NAME</th>\n",
       "      <th>PERCENT HOUSEHOLDS BELOW POVERTY</th>\n",
       "      <th>PERCENT AGED 25+ WITHOUT HIGH SCHOOL DIPLOMA</th>\n",
       "      <th>PERCENT AGED 16+ UNEMPLOYED</th>\n",
       "      <th>PERCENT AGED UNDER 18 OR OVER 64</th>\n",
       "      <th>PER CAPITA INCOME</th>\n",
       "    </tr>\n",
       "  </thead>\n",
       "  <tbody>\n",
       "    <tr>\n",
       "      <th>0</th>\n",
       "      <td>39.0</td>\n",
       "      <td>Rogers Park</td>\n",
       "      <td>23.6</td>\n",
       "      <td>18.2</td>\n",
       "      <td>8.7</td>\n",
       "      <td>27.5</td>\n",
       "      <td>23939</td>\n",
       "    </tr>\n",
       "    <tr>\n",
       "      <th>1</th>\n",
       "      <td>46.0</td>\n",
       "      <td>West Ridge</td>\n",
       "      <td>17.2</td>\n",
       "      <td>20.8</td>\n",
       "      <td>8.8</td>\n",
       "      <td>38.5</td>\n",
       "      <td>23040</td>\n",
       "    </tr>\n",
       "    <tr>\n",
       "      <th>2</th>\n",
       "      <td>20.0</td>\n",
       "      <td>Uptown</td>\n",
       "      <td>24.0</td>\n",
       "      <td>11.8</td>\n",
       "      <td>8.9</td>\n",
       "      <td>22.2</td>\n",
       "      <td>35787</td>\n",
       "    </tr>\n",
       "    <tr>\n",
       "      <th>3</th>\n",
       "      <td>17.0</td>\n",
       "      <td>Lincoln Square</td>\n",
       "      <td>10.9</td>\n",
       "      <td>13.4</td>\n",
       "      <td>8.2</td>\n",
       "      <td>25.5</td>\n",
       "      <td>37524</td>\n",
       "    </tr>\n",
       "    <tr>\n",
       "      <th>4</th>\n",
       "      <td>6.0</td>\n",
       "      <td>North Center</td>\n",
       "      <td>7.5</td>\n",
       "      <td>4.5</td>\n",
       "      <td>5.2</td>\n",
       "      <td>26.2</td>\n",
       "      <td>57123</td>\n",
       "    </tr>\n",
       "  </tbody>\n",
       "</table>\n",
       "</div>"
      ],
      "text/plain": [
       "   HARDSHIP INDEX COMMUNITY AREA NAME  PERCENT HOUSEHOLDS BELOW POVERTY  \\\n",
       "0            39.0         Rogers Park                              23.6   \n",
       "1            46.0          West Ridge                              17.2   \n",
       "2            20.0              Uptown                              24.0   \n",
       "3            17.0      Lincoln Square                              10.9   \n",
       "4             6.0        North Center                               7.5   \n",
       "\n",
       "   PERCENT AGED 25+ WITHOUT HIGH SCHOOL DIPLOMA  PERCENT AGED 16+ UNEMPLOYED  \\\n",
       "0                                          18.2                          8.7   \n",
       "1                                          20.8                          8.8   \n",
       "2                                          11.8                          8.9   \n",
       "3                                          13.4                          8.2   \n",
       "4                                           4.5                          5.2   \n",
       "\n",
       "   PERCENT AGED UNDER 18 OR OVER 64  PER CAPITA INCOME   \n",
       "0                              27.5               23939  \n",
       "1                              38.5               23040  \n",
       "2                              22.2               35787  \n",
       "3                              25.5               37524  \n",
       "4                              26.2               57123  "
      ]
     },
     "execution_count": 12,
     "metadata": {},
     "output_type": "execute_result"
    }
   ],
   "source": [
    "inc_edu_age = pd.read_csv(\"/Users/poojazare/Documents/Spring2018/CS6001-SpatialTemporal/Project/income_education_hardship.csv\")\n",
    "inc_edu_age.head(5)"
   ]
  },
  {
   "cell_type": "code",
   "execution_count": 13,
   "metadata": {},
   "outputs": [
    {
     "data": {
      "text/plain": [
       "(78, 7)"
      ]
     },
     "execution_count": 13,
     "metadata": {},
     "output_type": "execute_result"
    }
   ],
   "source": [
    "inc_edu_age.shape"
   ]
  },
  {
   "cell_type": "code",
   "execution_count": 14,
   "metadata": {},
   "outputs": [
    {
     "data": {
      "text/plain": [
       "78"
      ]
     },
     "execution_count": 14,
     "metadata": {},
     "output_type": "execute_result"
    }
   ],
   "source": [
    "inc_edu_age['COMMUNITY AREA NAME'].nunique()"
   ]
  },
  {
   "cell_type": "code",
   "execution_count": 15,
   "metadata": {},
   "outputs": [],
   "source": [
    "smalldf = pd.read_csv(\"/Users/poojazare/Documents/Spring2018/CS6001-SpatialTemporal/Project/datap3_clean.csv\")"
   ]
  },
  {
   "cell_type": "code",
   "execution_count": 16,
   "metadata": {},
   "outputs": [
    {
     "data": {
      "text/plain": [
       "(1779710, 83)"
      ]
     },
     "execution_count": 16,
     "metadata": {},
     "output_type": "execute_result"
    }
   ],
   "source": [
    "smalldf.shape"
   ]
  },
  {
   "cell_type": "code",
   "execution_count": 17,
   "metadata": {},
   "outputs": [
    {
     "data": {
      "text/plain": [
       "78"
      ]
     },
     "execution_count": 17,
     "metadata": {},
     "output_type": "execute_result"
    }
   ],
   "source": [
    "smalldf[\"Community.Area\"].nunique()"
   ]
  },
  {
   "cell_type": "code",
   "execution_count": 18,
   "metadata": {},
   "outputs": [
    {
     "data": {
      "text/html": [
       "<div>\n",
       "<style scoped>\n",
       "    .dataframe tbody tr th:only-of-type {\n",
       "        vertical-align: middle;\n",
       "    }\n",
       "\n",
       "    .dataframe tbody tr th {\n",
       "        vertical-align: top;\n",
       "    }\n",
       "\n",
       "    .dataframe thead th {\n",
       "        text-align: right;\n",
       "    }\n",
       "</style>\n",
       "<table border=\"1\" class=\"dataframe\">\n",
       "  <thead>\n",
       "    <tr style=\"text-align: right;\">\n",
       "      <th></th>\n",
       "      <th>Unnamed: 0</th>\n",
       "      <th>ID</th>\n",
       "      <th>Date</th>\n",
       "      <th>Block</th>\n",
       "      <th>IUCR</th>\n",
       "      <th>Description</th>\n",
       "      <th>Location.Description</th>\n",
       "      <th>Ward</th>\n",
       "      <th>Community.Area</th>\n",
       "      <th>FBI.Code</th>\n",
       "      <th>...</th>\n",
       "      <th>Timeblock_6</th>\n",
       "      <th>Timeblock_9</th>\n",
       "      <th>Weekday_Friday</th>\n",
       "      <th>Weekday_Monday</th>\n",
       "      <th>Weekday_Saturday</th>\n",
       "      <th>Weekday_Sunday</th>\n",
       "      <th>Weekday_Thursday</th>\n",
       "      <th>Weekday_Tuesday</th>\n",
       "      <th>Weekday_Wednesday</th>\n",
       "      <th>closest_station</th>\n",
       "    </tr>\n",
       "  </thead>\n",
       "  <tbody>\n",
       "    <tr>\n",
       "      <th>0</th>\n",
       "      <td>1</td>\n",
       "      <td>10000092</td>\n",
       "      <td>03/18/2015 07:44:00 PM</td>\n",
       "      <td>047XX W OHIO ST</td>\n",
       "      <td>041A</td>\n",
       "      <td>AGGRAVATED: HANDGUN</td>\n",
       "      <td>STREET</td>\n",
       "      <td>28</td>\n",
       "      <td>25</td>\n",
       "      <td>04B</td>\n",
       "      <td>...</td>\n",
       "      <td>0</td>\n",
       "      <td>0</td>\n",
       "      <td>0</td>\n",
       "      <td>0</td>\n",
       "      <td>0</td>\n",
       "      <td>0</td>\n",
       "      <td>0</td>\n",
       "      <td>0</td>\n",
       "      <td>1</td>\n",
       "      <td>1.452234</td>\n",
       "    </tr>\n",
       "    <tr>\n",
       "      <th>1</th>\n",
       "      <td>2</td>\n",
       "      <td>10000095</td>\n",
       "      <td>03/18/2015 10:45:00 PM</td>\n",
       "      <td>044XX S LAKE PARK AVE</td>\n",
       "      <td>0486</td>\n",
       "      <td>DOMESTIC BATTERY SIMPLE</td>\n",
       "      <td>APARTMENT</td>\n",
       "      <td>4</td>\n",
       "      <td>39</td>\n",
       "      <td>08B</td>\n",
       "      <td>...</td>\n",
       "      <td>0</td>\n",
       "      <td>0</td>\n",
       "      <td>0</td>\n",
       "      <td>0</td>\n",
       "      <td>0</td>\n",
       "      <td>0</td>\n",
       "      <td>0</td>\n",
       "      <td>0</td>\n",
       "      <td>1</td>\n",
       "      <td>1.933692</td>\n",
       "    </tr>\n",
       "    <tr>\n",
       "      <th>2</th>\n",
       "      <td>3</td>\n",
       "      <td>10000096</td>\n",
       "      <td>03/18/2015 10:30:00 PM</td>\n",
       "      <td>051XX S MICHIGAN AVE</td>\n",
       "      <td>0460</td>\n",
       "      <td>SIMPLE</td>\n",
       "      <td>APARTMENT</td>\n",
       "      <td>3</td>\n",
       "      <td>40</td>\n",
       "      <td>08B</td>\n",
       "      <td>...</td>\n",
       "      <td>0</td>\n",
       "      <td>0</td>\n",
       "      <td>0</td>\n",
       "      <td>0</td>\n",
       "      <td>0</td>\n",
       "      <td>0</td>\n",
       "      <td>0</td>\n",
       "      <td>0</td>\n",
       "      <td>1</td>\n",
       "      <td>0.414610</td>\n",
       "    </tr>\n",
       "    <tr>\n",
       "      <th>3</th>\n",
       "      <td>4</td>\n",
       "      <td>10000097</td>\n",
       "      <td>03/18/2015 09:00:00 PM</td>\n",
       "      <td>047XX W ADAMS ST</td>\n",
       "      <td>031A</td>\n",
       "      <td>ARMED: HANDGUN</td>\n",
       "      <td>SIDEWALK</td>\n",
       "      <td>28</td>\n",
       "      <td>25</td>\n",
       "      <td>03</td>\n",
       "      <td>...</td>\n",
       "      <td>0</td>\n",
       "      <td>0</td>\n",
       "      <td>0</td>\n",
       "      <td>0</td>\n",
       "      <td>0</td>\n",
       "      <td>0</td>\n",
       "      <td>0</td>\n",
       "      <td>0</td>\n",
       "      <td>1</td>\n",
       "      <td>1.284859</td>\n",
       "    </tr>\n",
       "    <tr>\n",
       "      <th>4</th>\n",
       "      <td>5</td>\n",
       "      <td>10000098</td>\n",
       "      <td>03/18/2015 10:00:00 PM</td>\n",
       "      <td>049XX S DREXEL BLVD</td>\n",
       "      <td>0460</td>\n",
       "      <td>SIMPLE</td>\n",
       "      <td>APARTMENT</td>\n",
       "      <td>4</td>\n",
       "      <td>39</td>\n",
       "      <td>08B</td>\n",
       "      <td>...</td>\n",
       "      <td>0</td>\n",
       "      <td>0</td>\n",
       "      <td>0</td>\n",
       "      <td>0</td>\n",
       "      <td>0</td>\n",
       "      <td>0</td>\n",
       "      <td>0</td>\n",
       "      <td>0</td>\n",
       "      <td>1</td>\n",
       "      <td>1.375457</td>\n",
       "    </tr>\n",
       "  </tbody>\n",
       "</table>\n",
       "<p>5 rows × 83 columns</p>\n",
       "</div>"
      ],
      "text/plain": [
       "   Unnamed: 0        ID                    Date                  Block  IUCR  \\\n",
       "0           1  10000092  03/18/2015 07:44:00 PM        047XX W OHIO ST  041A   \n",
       "1           2  10000095  03/18/2015 10:45:00 PM  044XX S LAKE PARK AVE  0486   \n",
       "2           3  10000096  03/18/2015 10:30:00 PM   051XX S MICHIGAN AVE  0460   \n",
       "3           4  10000097  03/18/2015 09:00:00 PM       047XX W ADAMS ST  031A   \n",
       "4           5  10000098  03/18/2015 10:00:00 PM    049XX S DREXEL BLVD  0460   \n",
       "\n",
       "               Description Location.Description  Ward  Community.Area  \\\n",
       "0      AGGRAVATED: HANDGUN               STREET    28              25   \n",
       "1  DOMESTIC BATTERY SIMPLE            APARTMENT     4              39   \n",
       "2                   SIMPLE            APARTMENT     3              40   \n",
       "3           ARMED: HANDGUN             SIDEWALK    28              25   \n",
       "4                   SIMPLE            APARTMENT     4              39   \n",
       "\n",
       "  FBI.Code       ...         Timeblock_6  Timeblock_9  Weekday_Friday  \\\n",
       "0      04B       ...                   0            0               0   \n",
       "1      08B       ...                   0            0               0   \n",
       "2      08B       ...                   0            0               0   \n",
       "3       03       ...                   0            0               0   \n",
       "4      08B       ...                   0            0               0   \n",
       "\n",
       "   Weekday_Monday  Weekday_Saturday Weekday_Sunday  Weekday_Thursday  \\\n",
       "0               0                 0              0                 0   \n",
       "1               0                 0              0                 0   \n",
       "2               0                 0              0                 0   \n",
       "3               0                 0              0                 0   \n",
       "4               0                 0              0                 0   \n",
       "\n",
       "   Weekday_Tuesday  Weekday_Wednesday  closest_station  \n",
       "0                0                  1         1.452234  \n",
       "1                0                  1         1.933692  \n",
       "2                0                  1         0.414610  \n",
       "3                0                  1         1.284859  \n",
       "4                0                  1         1.375457  \n",
       "\n",
       "[5 rows x 83 columns]"
      ]
     },
     "execution_count": 18,
     "metadata": {},
     "output_type": "execute_result"
    }
   ],
   "source": [
    "smalldf.head()"
   ]
  },
  {
   "cell_type": "code",
   "execution_count": 19,
   "metadata": {},
   "outputs": [],
   "source": [
    "smalldf['Income']=smalldf[\"Community.Area\"].apply(lambda row: inc_edu_age.iloc[int(row)-1].iloc[6])"
   ]
  },
  {
   "cell_type": "code",
   "execution_count": 20,
   "metadata": {},
   "outputs": [],
   "source": [
    "smalldf['HARDSHIP INDEX']=smalldf[\"Community.Area\"].apply(lambda row: inc_edu_age.iloc[int(row)-1].iloc[0])"
   ]
  },
  {
   "cell_type": "code",
   "execution_count": 21,
   "metadata": {},
   "outputs": [],
   "source": [
    "smalldf['Under18_over64']=smalldf[\"Community.Area\"].apply(lambda row: inc_edu_age.iloc[int(row)-1].iloc[5])"
   ]
  },
  {
   "cell_type": "code",
   "execution_count": 22,
   "metadata": {},
   "outputs": [],
   "source": [
    "smalldf['Unemployed']=smalldf[\"Community.Area\"].apply(lambda row: inc_edu_age.iloc[int(row)-1].iloc[4])"
   ]
  },
  {
   "cell_type": "code",
   "execution_count": 23,
   "metadata": {},
   "outputs": [],
   "source": [
    "smalldf['House_below_poverty']=smalldf[\"Community.Area\"].apply(lambda row: inc_edu_age.iloc[int(row)-1].iloc[2])"
   ]
  },
  {
   "cell_type": "code",
   "execution_count": 24,
   "metadata": {},
   "outputs": [
    {
     "name": "stdout",
     "output_type": "stream",
     "text": [
      "(1779710, 88)\n",
      "(1709856, 111)\n"
     ]
    }
   ],
   "source": [
    "smalldf.head()\n",
    "print(smalldf.shape)\n",
    "smalldf=smalldf[smalldf[\"Location.Description\"]!=\"OTHER\"]\n",
    "smalldf=pd.get_dummies(smalldf,columns=[\"Location.Description\"])\n",
    "print(smalldf.shape)\n",
    "smalldf.to_csv(\"chicago_final_clean.csv\", index=False)"
   ]
  },
  {
   "cell_type": "code",
   "execution_count": null,
   "metadata": {},
   "outputs": [],
   "source": []
  }
 ],
 "metadata": {
  "kernelspec": {
   "display_name": "Python 3",
   "language": "python",
   "name": "python3"
  },
  "language_info": {
   "codemirror_mode": {
    "name": "ipython",
    "version": 3
   },
   "file_extension": ".py",
   "mimetype": "text/x-python",
   "name": "python",
   "nbconvert_exporter": "python",
   "pygments_lexer": "ipython3",
   "version": "3.6.2"
  }
 },
 "nbformat": 4,
 "nbformat_minor": 2
}
